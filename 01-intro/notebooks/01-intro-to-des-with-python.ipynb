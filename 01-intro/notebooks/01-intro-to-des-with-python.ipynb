{
 "cells": [
  {
   "cell_type": "markdown",
   "metadata": {},
   "source": [
    "# Intro to Discrete Events Simulation with Python\n",
    "\n",
    "<!-- [![Open In Colab](https://colab.research.google.com/assets/colab-badge.svg)](https://colab.research.google.com/github/vitostamatti/discrete-event-simulation-simpy/blob/main/notebooks/basic_examples.ipynb) -->\n",
    "\n",
    "In this set of examples, I'll explore the `simpy` library and it's main\n",
    "objects. It's not the most intuitive library but not because of the design\n",
    "or quality of it, but for the non trivial problem that it aims to solve.\n",
    "\n",
    "Discrete Event Simulation with python is not an easy task, and I'm far from\n",
    "being an expert in this matter, so I apologies in advance if a make a wrong\n",
    "use of the simpy library or the concepts behind it.\n"
   ]
  },
  {
   "cell_type": "markdown",
   "metadata": {},
   "source": [
    "## 1. Hello world example\n",
    "\n",
    "First example is just to ilustrate how to start a simulation and what simpy needs in order to make its magic.\n",
    "\n",
    "First of all, we need to import and install simpy. Then, to make an event ocurr we need to use python generators. The explanation of generators if far beyond this notebook so I strongly recommend to take a look on to the [official python documentation](https://docs.python.org/3/reference/expressions.html#yieldexpr)\n",
    "\n",
    "The way I like to think about generators in this specific scenario is that they will \"freeze\" the excecution until a condition is passed. In our case, this conditions is the env.timeout() event, which internally makes the simulation time to advance. After this timeout is finished, the excecution continues from where it was interrupted.\n"
   ]
  },
  {
   "cell_type": "code",
   "execution_count": 12,
   "metadata": {},
   "outputs": [
    {
     "name": "stdout",
     "output_type": "stream",
     "text": [
      "Before timeout: now=0\n",
      "After timeout: now=1, value=42\n"
     ]
    }
   ],
   "source": [
    "import simpy\n",
    "\n",
    "\n",
    "def example(env):\n",
    "    # we are about to freeze excecution for 1 unit\n",
    "    print(f\"Before timeout: now={env.now}\")\n",
    "    value = yield env.timeout(1, value=42)\n",
    "    # now we returned to the excecution and continue\n",
    "    print(f\"After timeout: now={env.now}, value={value}\")\n",
    "\n",
    "\n",
    "env = simpy.Environment()\n",
    "p = env.process(example(env))\n",
    "env.run()"
   ]
  },
  {
   "cell_type": "markdown",
   "metadata": {},
   "source": [
    "An alternative to python functions, is to use python classes (which I personally prefer).\n",
    "This allows us to build much more \"interpretable\" models where the simulation objects\n",
    "represents real objects.\n"
   ]
  },
  {
   "cell_type": "code",
   "execution_count": 14,
   "metadata": {},
   "outputs": [
    {
     "name": "stdout",
     "output_type": "stream",
     "text": [
      "Before timeout: now=0\n",
      "After timeout: now=1, value=42\n"
     ]
    }
   ],
   "source": [
    "class Example:\n",
    "    def __init__(self, env, delay=10):\n",
    "        self.env = env\n",
    "        self.delay = delay\n",
    "\n",
    "    def process(self):\n",
    "        # we are about to freeze excecution for 1 unit\n",
    "        print(f\"Before timeout: now={self.env.now}\")\n",
    "        value = yield self.env.timeout(1, value=42)\n",
    "        # now we returned to the excecution and continue\n",
    "        print(f\"After timeout: now={self.env.now}, value={value}\")\n",
    "\n",
    "\n",
    "env = simpy.Environment()\n",
    "e = Example(env, delay=10)\n",
    "env.process(e.process())\n",
    "env.run()"
   ]
  },
  {
   "cell_type": "markdown",
   "metadata": {},
   "source": [
    "## 2. Vehicle example\n",
    "\n",
    "In this example, we'll make a process to run uninterruptedly\n",
    "and to let simpy enviroment finish the simulation when a maximum time\n",
    "is reached. This kind of simulation it's mostly use to emulate\n",
    "real time dependent process and to evaluate it's progress over time.\n"
   ]
  },
  {
   "cell_type": "code",
   "execution_count": 18,
   "metadata": {},
   "outputs": [
    {
     "name": "stdout",
     "output_type": "stream",
     "text": [
      "Start Driving at 0.00\n",
      "Need refueling at 3.98\n",
      "Start refueling at 3.98\n",
      "Finished refueling at 4.09: fuel now is 33.00\n",
      "Start Driving at 4.09\n",
      "Need refueling at 8.12\n",
      "Start refueling at 8.12\n",
      "Finished refueling at 8.24: fuel now is 32.00\n",
      "Start Driving at 8.24\n",
      "Need refueling at 12.00\n",
      "Start refueling at 12.00\n",
      "Finished refueling at 12.12: fuel now is 33.00\n",
      "Start Driving at 12.12\n",
      "Need refueling at 16.19\n",
      "Start refueling at 16.19\n",
      "Finished refueling at 16.28: fuel now is 30.00\n",
      "Start Driving at 16.28\n",
      "Need refueling at 19.44\n",
      "Start refueling at 19.44\n",
      "Finished refueling at 19.55: fuel now is 34.00\n",
      "Start Driving at 19.55\n",
      "Need refueling at 23.17\n",
      "Start refueling at 23.17\n",
      "Finished refueling at 23.29: fuel now is 30.00\n",
      "Start Driving at 23.29\n"
     ]
    }
   ],
   "source": [
    "import simpy\n",
    "import numpy as np\n",
    "\n",
    "\n",
    "class VehicleExample:\n",
    "    \"\"\"\n",
    "    Vehicle object that can drive() for a given time\n",
    "    depending on its fuel consumption and fuel capacity.\n",
    "\n",
    "    Attributes:\n",
    "        env (simpy.Environment): the simpy environment to run with.\n",
    "        min_speed (float, optional): min speed expressed in km/hs. Defaults to 80.\n",
    "        max_speed (float, optional): max speed expressed in km/hs. Defaults to 100.\n",
    "        fuel_consumption (float, optional): fuel consumption expressed in km/lt. Defaults to 10.\n",
    "        fuel_capacity (float, optional): fuel capacity expressed in lt. Defaults to 35.\n",
    "    \"\"\"\n",
    "\n",
    "    def __init__(\n",
    "        self,\n",
    "        env: simpy.Environment,\n",
    "        min_speed: float = 80.0,\n",
    "        max_speed: float = 100,\n",
    "        fuel_consumption: float = 10,\n",
    "        fuel_capacity: float = 35,\n",
    "    ):\n",
    "        self.env = env\n",
    "        self.min_speed = min_speed  # km/hs\n",
    "        self.max_speed = max_speed  # km/hs\n",
    "        self.fuel_consumption = fuel_consumption  # km/lt\n",
    "        self.fuel_capacity = fuel_capacity  # lt\n",
    "        self.fuel = fuel_capacity  # lt\n",
    "\n",
    "    def drive(self):\n",
    "        \"\"\"Excecutes the loop that makes the vehicle drive\"\"\"\n",
    "        while True:\n",
    "            print(f\"Start Driving at {self.env.now:.2f}\")\n",
    "            travel_time = (self.fuel * self.fuel_consumption) / (\n",
    "                np.random.randint(self.min_speed, self.max_speed)\n",
    "            )\n",
    "            yield self.env.timeout(travel_time)\n",
    "            print(f\"Need refueling at {self.env.now:.2f}\")\n",
    "\n",
    "            print(f\"Start refueling at {self.env.now:.2f}\")\n",
    "            yield self.env.timeout(np.random.uniform(0.05, 0.15))\n",
    "            self.fuel = np.random.randint(self.fuel_capacity - 5, self.fuel_capacity)\n",
    "            print(\n",
    "                f\"Finished refueling at {self.env.now:.2f}: fuel now is {self.fuel:.2f}\"\n",
    "            )\n",
    "\n",
    "\n",
    "env = simpy.Environment()\n",
    "v = VehicleExample(env)\n",
    "env.process(v.drive())\n",
    "env.run(until=24)"
   ]
  },
  {
   "cell_type": "markdown",
   "metadata": {},
   "source": [
    "## 3. Machine Example\n",
    "\n",
    "In this example, we simulate a machine that processes products in\n",
    "a queue or production plan. The policy used to select the next product\n",
    "can be:\n",
    "\n",
    "- Random\n",
    "- FIFO (first in, first out)\n",
    "- LIFO (last in, first out)\n"
   ]
  },
  {
   "cell_type": "code",
   "execution_count": 10,
   "metadata": {},
   "outputs": [
    {
     "name": "stdout",
     "output_type": "stream",
     "text": [
      "Processing RANDOM policy\n",
      "Processing product 0 at time 0\n",
      "Processing product 3 at time 14.664437457331555\n",
      "Processing product 4 at time 28.43934381274208\n",
      "Processing product 2 at time 40.93311214678734\n",
      "Processing product 1 at time 54.521131103061315\n",
      "\n",
      "Processing FIFO policy\n",
      "Processing product 0 at time 0\n",
      "Processing product 1 at time 16.6348964608339\n",
      "Processing product 2 at time 34.13186488794743\n",
      "Processing product 3 at time 49.710138733369114\n",
      "Processing product 4 at time 63.841699204302074\n",
      "\n",
      "Processing LIFO policy\n",
      "Processing product 4 at time 0\n",
      "Processing product 3 at time 16.84107861088087\n",
      "Processing product 2 at time 30.824374256889396\n",
      "Processing product 1 at time 46.09430196538585\n",
      "Processing product 0 at time 60.60309375245397\n"
     ]
    }
   ],
   "source": [
    "import copy\n",
    "\n",
    "\n",
    "class Product:\n",
    "    def __init__(self, id):\n",
    "        self.id = id\n",
    "        self.processed = False\n",
    "\n",
    "\n",
    "class Machine:\n",
    "    def __init__(self, env: simpy.Environment, id, process_time=(10, 15, 20)):\n",
    "        self.env = env\n",
    "        self.id = id\n",
    "        self.process_time = process_time\n",
    "        self.idle = True\n",
    "\n",
    "        self.pending_products = []\n",
    "        self.processed_products = []\n",
    "\n",
    "    def generate_process_time(self):\n",
    "        return np.random.triangular(\n",
    "            self.process_time[0], self.process_time[1], self.process_time[2]\n",
    "        )\n",
    "\n",
    "    def process_product(self, product):\n",
    "        print(f\"Processing product {product.id} at time {self.env.now}\")\n",
    "        self.idle = False\n",
    "        yield self.env.timeout(delay=self.generate_process_time())\n",
    "        product.processed = True\n",
    "        self.idle = False\n",
    "        return product\n",
    "\n",
    "    def _set_production_plan(self, products):\n",
    "        self.pending_products = copy.deepcopy(products)\n",
    "        self.processed_products = []\n",
    "\n",
    "    def process_all_products_randomly(self, products):\n",
    "        self._set_production_plan(products)\n",
    "        while len(self.pending_products) > 0:\n",
    "            next_prod = np.random.choice(range(len(self.pending_products)))\n",
    "            p = self.pending_products[next_prod]\n",
    "            yield env.process(m.process_product(p))\n",
    "            self.pending_products.remove(p)\n",
    "            self.processed_products.append(p)\n",
    "\n",
    "    def process_all_products_fifo(self, products):\n",
    "        self._set_production_plan(products)\n",
    "        while len(self.pending_products) > 0:\n",
    "            p = self.pending_products[0]\n",
    "            yield env.process(m.process_product(p))\n",
    "            self.pending_products.remove(p)\n",
    "            self.processed_products.append(p)\n",
    "\n",
    "    def process_all_products_lifo(self, products):\n",
    "        self._set_production_plan(products)\n",
    "        while len(self.pending_products) > 0:\n",
    "            p = self.pending_products[-1]\n",
    "            yield env.process(m.process_product(p))\n",
    "            self.pending_products.remove(p)\n",
    "            self.processed_products.append(p)\n",
    "\n",
    "\n",
    "print(\"Processing RANDOM policy\")\n",
    "env = simpy.Environment()\n",
    "m = Machine(env, id=\"machine\")\n",
    "products = [Product(id=i) for i in range(5)]\n",
    "env.process(m.process_all_products_randomly(products))\n",
    "env.run()\n",
    "print()\n",
    "\n",
    "print(\"Processing FIFO policy\")\n",
    "env = simpy.Environment()\n",
    "m = Machine(env, id=\"machine\")\n",
    "products = [Product(id=i) for i in range(5)]\n",
    "env.process(m.process_all_products_fifo(products))\n",
    "env.run()\n",
    "print()\n",
    "\n",
    "print(\"Processing LIFO policy\")\n",
    "env = simpy.Environment()\n",
    "m = Machine(env, id=\"machine\")\n",
    "products = [Product(id=i) for i in range(5)]\n",
    "env.process(m.process_all_products_lifo(products))\n",
    "env.run()"
   ]
  }
 ],
 "metadata": {
  "kernelspec": {
   "display_name": "Python 3.8.6 ('venv': venv)",
   "language": "python",
   "name": "python3"
  },
  "language_info": {
   "codemirror_mode": {
    "name": "ipython",
    "version": 3
   },
   "file_extension": ".py",
   "mimetype": "text/x-python",
   "name": "python",
   "nbconvert_exporter": "python",
   "pygments_lexer": "ipython3",
   "version": "3.9.13"
  },
  "orig_nbformat": 4,
  "vscode": {
   "interpreter": {
    "hash": "90a2b024c340096d53a739e08e2ecb75a0da55575f071b671a0f51db4f7965bf"
   }
  }
 },
 "nbformat": 4,
 "nbformat_minor": 2
}
