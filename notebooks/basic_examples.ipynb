{
 "cells": [
  {
   "cell_type": "markdown",
   "metadata": {},
   "source": [
    "# Basic Examples"
   ]
  },
  {
   "cell_type": "markdown",
   "metadata": {},
   "source": [
    "## 01-Introductory example"
   ]
  },
  {
   "cell_type": "code",
   "execution_count": 1,
   "metadata": {},
   "outputs": [
    {
     "name": "stdout",
     "output_type": "stream",
     "text": [
      "now=1, value=42\n"
     ]
    }
   ],
   "source": [
    "import simpy\n",
    "\n",
    "# First example\n",
    "def example(env):\n",
    "    value = yield env.timeout(1, value=42)\n",
    "    print('now=%d, value=%d' % (env.now, value))\n",
    "\n",
    "env = simpy.Environment()\n",
    "p = env.process(example(env))\n",
    "env.run()"
   ]
  },
  {
   "cell_type": "markdown",
   "metadata": {},
   "source": [
    "## 02-Python class example"
   ]
  },
  {
   "cell_type": "code",
   "execution_count": 2,
   "metadata": {},
   "outputs": [
    {
     "name": "stdout",
     "output_type": "stream",
     "text": [
      "Before timeout: now=0\n",
      "After timeout: now=10, value=42\n"
     ]
    }
   ],
   "source": [
    "import simpy\n",
    "\n",
    "# Second example\n",
    "class Example():\n",
    "\n",
    "    def __init__(self, env, delay=10):\n",
    "        self.env = env\n",
    "        self.delay = delay\n",
    "\n",
    "    def process(self):\n",
    "        print('Before timeout: now=%d' % (env.now))\n",
    "        value = yield self.env.timeout(self.delay, value=42)\n",
    "        print('After timeout: now=%d, value=%d' % (env.now, value))\n",
    "\n",
    "\n",
    "env = simpy.Environment()\n",
    "e = Example(env,delay=10)\n",
    "env.process(e.process())\n",
    "env.run()"
   ]
  },
  {
   "cell_type": "markdown",
   "metadata": {},
   "source": [
    "## 03-Vehicle example"
   ]
  },
  {
   "cell_type": "code",
   "execution_count": 3,
   "metadata": {},
   "outputs": [
    {
     "name": "stdout",
     "output_type": "stream",
     "text": [
      "Start Driving at 0\n",
      "Need refueling at 3.977272727272727\n",
      "Start refueling at 3.977272727272727\n",
      "Finished refueling at 4.110372414993065: fuel now is 34\n",
      "Start Driving at 4.110372414993065\n",
      "Need refueling at 7.579760170095105\n",
      "Start refueling at 7.579760170095105\n",
      "Finished refueling at 7.644977975700776: fuel now is 32\n",
      "Start Driving at 7.644977975700776\n",
      "Need refueling at 11.049233294849712\n",
      "Start refueling at 11.049233294849712\n",
      "Finished refueling at 11.176646696707877: fuel now is 31\n",
      "Start Driving at 11.176646696707877\n",
      "Need refueling at 14.37252298536767\n",
      "Start refueling at 14.37252298536767\n",
      "Finished refueling at 14.47840208630337: fuel now is 31\n",
      "Start Driving at 14.47840208630337\n",
      "Need refueling at 18.30556258013053\n",
      "Start refueling at 18.30556258013053\n",
      "Finished refueling at 18.43592311018481: fuel now is 30\n",
      "Start Driving at 18.43592311018481\n",
      "Need refueling at 21.627412471886938\n",
      "Start refueling at 21.627412471886938\n",
      "Finished refueling at 21.68003469993764: fuel now is 31\n",
      "Start Driving at 21.68003469993764\n"
     ]
    }
   ],
   "source": [
    "import simpy\n",
    "import numpy as np\n",
    "\n",
    "class Vehicle:\n",
    "    def __init__(self, env, min_speed=80, max_speed=100, fuel_consumption=10, fuel_capacity=35):\n",
    "        self.env = env\n",
    "        self.min_speed = min_speed # km/hs\n",
    "        self.max_speed = max_speed # km/hs\n",
    "        self.fuel_consumption = fuel_consumption # km/lt\n",
    "        self.fuel_capacity = fuel_capacity # lt\n",
    "        self.fuel = fuel_capacity # lt\n",
    "\n",
    "\n",
    "    def drive(self):\n",
    "        while True:\n",
    "            print(f\"Start Driving at {self.env.now}\")\n",
    "            travel_time = (self.fuel*self.fuel_consumption)/(np.random.randint(self.min_speed,self.max_speed))\n",
    "            yield self.env.timeout(travel_time)\n",
    "            print(f\"Need refueling at {self.env.now}\")\n",
    "\n",
    "            print(f\"Start refueling at {self.env.now}\")\n",
    "            yield self.env.timeout(np.random.uniform(0.05, 0.15))\n",
    "            self.fuel = np.random.randint(self.fuel_capacity-5,self.fuel_capacity)\n",
    "            print(f\"Finished refueling at {self.env.now}: fuel now is {self.fuel}\")\n",
    "\n",
    "\n",
    "env = simpy.Environment()\n",
    "v = Vehicle(env)\n",
    "env.process(v.drive())\n",
    "env.run(until=24)"
   ]
  },
  {
   "cell_type": "markdown",
   "metadata": {},
   "source": [
    "## 04-Machine Example"
   ]
  },
  {
   "cell_type": "code",
   "execution_count": 4,
   "metadata": {},
   "outputs": [
    {
     "name": "stdout",
     "output_type": "stream",
     "text": [
      "Processing RANDOM policy\n",
      "Processing product 5 at time 0\n",
      "Processing product 6 at time 12.146334706420241\n",
      "Processing product 9 at time 25.41922320679302\n",
      "Processing product 4 at time 40.41212099773223\n",
      "Processing product 1 at time 56.588785123494546\n",
      "Processing product 3 at time 72.90007562837951\n",
      "Processing product 0 at time 86.80018851221942\n",
      "Processing product 2 at time 100.05120682763642\n",
      "Processing product 7 at time 118.10001346524449\n",
      "Processing product 8 at time 132.93144246633773\n",
      "\n",
      "Processing FIFO policy\n",
      "Processing product 0 at time 0\n",
      "Processing product 1 at time 16.536097773367587\n",
      "Processing product 2 at time 33.489174435881715\n",
      "Processing product 3 at time 46.470758671131634\n",
      "Processing product 4 at time 61.69361932247431\n",
      "Processing product 5 at time 79.3962876115119\n",
      "Processing product 6 at time 97.03127374365525\n",
      "Processing product 7 at time 110.8215196891729\n",
      "Processing product 8 at time 126.91600354007943\n",
      "Processing product 9 at time 145.3705580020133\n",
      "\n",
      "Processing LIFO policy\n",
      "Processing product 9 at time 0\n",
      "Processing product 8 at time 18.240338318789565\n",
      "Processing product 7 at time 35.312376185762\n",
      "Processing product 6 at time 51.311919181878295\n",
      "Processing product 5 at time 66.0637152141686\n",
      "Processing product 4 at time 81.81665874781231\n",
      "Processing product 3 at time 96.97849244131478\n",
      "Processing product 2 at time 113.30679078612039\n",
      "Processing product 1 at time 127.03120464707487\n",
      "Processing product 0 at time 144.202666390271\n"
     ]
    }
   ],
   "source": [
    "# Example with an entity being processed\n",
    "import copy\n",
    "\n",
    "class Product():\n",
    "    def __init__(self, id):\n",
    "        self.id = id\n",
    "        self.processed = False\n",
    "\n",
    "\n",
    "class Machine():\n",
    "    def __init__(self, env:simpy.Environment, id, process_time=(10,15,20)):\n",
    "        self.env = env\n",
    "        self.id = id\n",
    "        self.process_time = process_time\n",
    "        self.idle = True \n",
    "\n",
    "    def generate_process_time(self):\n",
    "        return np.random.triangular(self.process_time[0],self.process_time[1],self.process_time[2])\n",
    "\n",
    "    def process_product(self, product):\n",
    "        print(f\"Processing product {product.id} at time {self.env.now}\")\n",
    "        self.idle = False\n",
    "        yield self.env.timeout(delay=self.generate_process_time())\n",
    "        product.processed = True\n",
    "        self.idle = False\n",
    "        return product\n",
    "\n",
    "    def _set_production_plan(self, products):\n",
    "        self.pending_products = copy.deepcopy(products)\n",
    "        self.processed_products = []\n",
    "\n",
    "    def process_all_products_randomly(self,products):\n",
    "        self._set_production_plan(products)\n",
    "        while len(self.pending_products)>0:\n",
    "            next_prod = np.random.choice(range(len(self.pending_products)))\n",
    "            p = self.pending_products[next_prod]\n",
    "            yield env.process(m.process_product(p))\n",
    "            self.pending_products.remove(p)\n",
    "            self.processed_products.append(p)\n",
    "\n",
    "    def process_all_products_fifo(self,products):\n",
    "        self._set_production_plan(products)\n",
    "        while len(self.pending_products)>0:\n",
    "            p = self.pending_products[0]\n",
    "            yield env.process(m.process_product(p))\n",
    "            self.pending_products.remove(p)\n",
    "            self.processed_products.append(p)\n",
    "\n",
    "    def process_all_products_lifo(self,products):\n",
    "        self._set_production_plan(products)\n",
    "        while len(self.pending_products)>0:\n",
    "            p = self.pending_products[-1]\n",
    "            yield env.process(m.process_product(p))\n",
    "            self.pending_products.remove(p)\n",
    "            self.processed_products.append(p)\n",
    "\n",
    "\n",
    "\n",
    "print(\"Processing RANDOM policy\")\n",
    "env = simpy.Environment()\n",
    "m = Machine(env,id='machine')\n",
    "products = [Product(id=i) for i in range(10)]\n",
    "env.process(m.process_all_products_randomly(products))\n",
    "env.run()\n",
    "print()\n",
    "\n",
    "print(\"Processing FIFO policy\")\n",
    "env = simpy.Environment()\n",
    "m = Machine(env,id='machine')\n",
    "products = [Product(id=i) for i in range(10)]\n",
    "env.process(m.process_all_products_fifo(products))\n",
    "env.run()\n",
    "print()\n",
    "\n",
    "print(\"Processing LIFO policy\")\n",
    "env = simpy.Environment()\n",
    "m = Machine(env,id='machine')\n",
    "products = [Product(id=i) for i in range(10)]\n",
    "env.process(m.process_all_products_lifo(products))\n",
    "env.run()"
   ]
  }
 ],
 "metadata": {
  "kernelspec": {
   "display_name": "Python 3.8.6 ('venv': venv)",
   "language": "python",
   "name": "python3"
  },
  "language_info": {
   "codemirror_mode": {
    "name": "ipython",
    "version": 3
   },
   "file_extension": ".py",
   "mimetype": "text/x-python",
   "name": "python",
   "nbconvert_exporter": "python",
   "pygments_lexer": "ipython3",
   "version": "3.8.6"
  },
  "orig_nbformat": 4,
  "vscode": {
   "interpreter": {
    "hash": "90a2b024c340096d53a739e08e2ecb75a0da55575f071b671a0f51db4f7965bf"
   }
  }
 },
 "nbformat": 4,
 "nbformat_minor": 2
}
